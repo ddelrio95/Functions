{
  "nbformat": 4,
  "nbformat_minor": 0,
  "metadata": {
    "colab": {
      "name": "Untitled0.ipynb",
      "provenance": [],
      "collapsed_sections": [],
      "authorship_tag": "ABX9TyMNR9i+/47TbbW+YpuryHUU",
      "include_colab_link": true
    },
    "kernelspec": {
      "name": "python3",
      "display_name": "Python 3"
    },
    "language_info": {
      "name": "python"
    }
  },
  "cells": [
    {
      "cell_type": "markdown",
      "metadata": {
        "id": "view-in-github",
        "colab_type": "text"
      },
      "source": [
        "<a href=\"https://colab.research.google.com/github/ddelrio95/Functions/blob/main/Untitled0.ipynb\" target=\"_parent\"><img src=\"https://colab.research.google.com/assets/colab-badge.svg\" alt=\"Open In Colab\"/></a>"
      ]
    },
    {
      "cell_type": "markdown",
      "metadata": {
        "id": "9rb1M-5unnfB"
      },
      "source": [
        "Functions"
      ]
    },
    {
      "cell_type": "code",
      "metadata": {
        "id": "WagwtZ4SnpA1"
      },
      "source": [
        "dir()"
      ],
      "execution_count": null,
      "outputs": []
    },
    {
      "cell_type": "code",
      "metadata": {
        "id": "ieEfE510oGQG"
      },
      "source": [
        "def f():\n",
        "  pass"
      ],
      "execution_count": 121,
      "outputs": []
    },
    {
      "cell_type": "code",
      "metadata": {
        "id": "cGMIY_wioKtF"
      },
      "source": [
        "f()\n",
        "dir()"
      ],
      "execution_count": null,
      "outputs": []
    },
    {
      "cell_type": "code",
      "metadata": {
        "id": "glPZtz5XocuD"
      },
      "source": [
        "def ping():\n",
        "    return \"Ping!\"\n",
        "ping()"
      ],
      "execution_count": null,
      "outputs": []
    },
    {
      "cell_type": "code",
      "metadata": {
        "id": "QAiiHvehovui"
      },
      "source": [
        "x = ping()\n",
        "print(x)"
      ],
      "execution_count": null,
      "outputs": []
    },
    {
      "cell_type": "code",
      "metadata": {
        "id": "3ygOMZQoo7L5"
      },
      "source": [
        "dir()"
      ],
      "execution_count": null,
      "outputs": []
    },
    {
      "cell_type": "code",
      "metadata": {
        "id": "vuAfY4h4pDKB"
      },
      "source": [
        "import math\n",
        "dir(math)"
      ],
      "execution_count": null,
      "outputs": []
    },
    {
      "cell_type": "code",
      "metadata": {
        "id": "vvOJRbH7pK_N"
      },
      "source": [
        "math.pi"
      ],
      "execution_count": null,
      "outputs": []
    },
    {
      "cell_type": "code",
      "metadata": {
        "id": "YD0ayQ9SpPUZ"
      },
      "source": [
        "def volume(r):\n",
        "  \"\"\"Returns the value of a sphere wiith radius r.\"\"\"\n",
        "  v = (4.0/3.0) * math.pi * r**3\n",
        "  return v\n",
        "\n",
        "volume(2)\n"
      ],
      "execution_count": null,
      "outputs": []
    },
    {
      "cell_type": "code",
      "metadata": {
        "id": "2OIWAuKYqIrB"
      },
      "source": [
        "help(volume)"
      ],
      "execution_count": null,
      "outputs": []
    },
    {
      "cell_type": "code",
      "metadata": {
        "colab": {
          "base_uri": "https://localhost:8080/"
        },
        "id": "Pmicos_hqRtl",
        "outputId": "7632fb5e-e702-49b0-ac65-69086978895a"
      },
      "source": [
        "def triangle_area(b, h):\n",
        "  \"\"\"Returns the are of the triangle with base b and height h.\"\"\"\n",
        "  return 0.5 * b * h\n",
        "\n",
        "triangle_area(3, 6)"
      ],
      "execution_count": 146,
      "outputs": [
        {
          "output_type": "execute_result",
          "data": {
            "text/plain": [
              "9.0"
            ]
          },
          "metadata": {},
          "execution_count": 146
        }
      ]
    },
    {
      "cell_type": "code",
      "metadata": {
        "colab": {
          "base_uri": "https://localhost:8080/"
        },
        "id": "v7P8Bru2rEBQ",
        "outputId": "cd64b5ab-3c4c-4095-a8fa-17081986f349"
      },
      "source": [
        "def cm(feet = 0, inches = 0):\n",
        "  \"\"\"Converts a lenght from feet and inches to centimiters.\"\"\"\n",
        "  inches_to_cm = inches * 2.54\n",
        "  feet_to_cm = feet * 12 * 2.54\n",
        "  return inches_to_cm + feet_to_cm\n",
        "\n",
        "cm(feet = 5)\n",
        "cm(inches = 70)\n",
        "cm(feet = 5, inches = 8)\n"
      ],
      "execution_count": 147,
      "outputs": [
        {
          "output_type": "execute_result",
          "data": {
            "text/plain": [
              "172.72"
            ]
          },
          "metadata": {},
          "execution_count": 147
        }
      ]
    },
    {
      "cell_type": "code",
      "metadata": {
        "id": "tQYc5Nkgs2Ku"
      },
      "source": [
        "class Person:\n",
        "  def ___init__(self, age, weight, height, first_name, last_name, catch_phrase):\n",
        "    self.age = age\n",
        "    self.weight = weight\n",
        "    self.height = height\n",
        "    self.first_name = fist_name\n",
        "    self.last_name = last_name\n",
        "    self.catch_phrase = catch_phrase\n",
        "\n",
        "    user1 = Person(25, 165, 177, \"Dario\", \"del Rio\", \"You know nothing, Dario del Rio\")\n",
        "    print(user1.catch_phrase)"
      ],
      "execution_count": 162,
      "outputs": []
    },
    {
      "cell_type": "code",
      "metadata": {
        "id": "FJb90lkFvJK2"
      },
      "source": [
        "class Bottle:\n",
        "  def ___init__(self, volume, type_):\n",
        "    self.volume = volume\n",
        "    self.type_ = type_\n",
        "  \n",
        "  def pour():\n",
        "    print(\"Pouring...\")\n",
        "\n",
        "  def fill():\n",
        "    print(\"Filling...\")\n",
        "\n",
        "  def recycle():\n",
        "    print(\"Recycling\")"
      ],
      "execution_count": 168,
      "outputs": []
    }
  ]
}